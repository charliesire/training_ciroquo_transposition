{
 "cells": [
  {
   "cell_type": "markdown",
   "id": "bbebb253-ba76-4ec3-9a1e-3bdf41ad41de",
   "metadata": {
    "tags": []
   },
   "source": [
    "# This notebook runs all the different strategies \n",
    "\n",
    "Several design $\\mathbb{X} = (\\mathbf{x}_j)_{j=1}^n$ are investigated to ensure robustness. Each one is associated with a \"seed_x\", which is the random seed used to generate the design. For every design, a csv file called \"results_measures_seed_x{seed_x}.csv\" is stored, with the 10 first rows corresponding to the true values of the outputs and the 10 others to the noisy observations, obtained with sigma = 0.9 for the two first output variables and 0.3 for the last one. "
   ]
  },
  {
   "cell_type": "code",
   "execution_count": 12,
   "id": "8a95efd1-70f3-4ab7-965f-6ddaddf2e149",
   "metadata": {
    "tags": []
   },
   "outputs": [],
   "source": [
    "import numpy                as np\n",
    "import pandas as pd\n",
    "import pickle\n",
    "\n",
    "from investigate_alphamap import func_alphamap,check_repeat\n",
    "from bayes_alpha import *\n",
    "from bayes_lambda import *\n",
    "from full_bayes import *\n",
    "from embedded_discrepancy import *\n",
    "\n",
    "from mm_taylor import *"
   ]
  },
  {
   "cell_type": "code",
   "execution_count": null,
   "id": "51f31aae-2321-4178-9b1e-c36b7b04af18",
   "metadata": {},
   "outputs": [],
   "source": [
    "if(os.path.isdir(\"taylor_impact\")==False): \n",
    "    os.mkdir(\"taylor_impact\")"
   ]
  },
  {
   "cell_type": "code",
   "execution_count": 13,
   "id": "34dd76d3-169d-4124-847e-a4ea788dfb1c",
   "metadata": {
    "tags": []
   },
   "outputs": [],
   "source": [
    "sigma = [0.9,0.9,0.3] #Standard deviation of the observation noise for each output variable\n",
    "bMINlambda = np.array([330, 70,  8000, 3000, 0.1, 0.1]) #lower bounds for lambda \n",
    "bMAXlambda = np.array([470, 150, 10000, 5000, 5, 5.0]) #upper bounds for lambda\n",
    "\n",
    "results_measures = pd.read_csv(f\"measures_and_true_values.csv\", index_col=0)\n",
    "true_values = results_measures.iloc[:10,:] #get true values\n",
    "results_measures = results_measures.iloc[10:,:] #get noisy observations\n",
    "\n",
    "with open(f'mm_list.pkl', 'rb') as f: #get the GP hyperparameters\n",
    "    mm_list = pickle.load(f)\n",
    "    \n",
    "calib_only = [1,2,3] #index of the calibration problems to consider. [1,2,3] means that the three configurations will be tested: observations of the first variable, of the second one, or of the third one. \n",
    "\n",
    "loo = False"
   ]
  },
  {
   "cell_type": "markdown",
   "id": "f21dfdb4-b51c-4467-babd-f6050c4f1763",
   "metadata": {},
   "source": [
    "# Hierarchical model"
   ]
  },
  {
   "cell_type": "code",
   "execution_count": 15,
   "id": "b757b866",
   "metadata": {
    "tags": []
   },
   "outputs": [],
   "source": [
    "index_lambda_p = [2,3,4,5] #indexes of the four physical parameters\n",
    "index_lambda_q = [0,1] #indexes of the two numerical parameters\n",
    "model_error = True #Model error is  considered, so hierarchical bayesian model for the two numerical parameters\n",
    "scale = 0.45 #std deviation of the truncated gaussian prior\n",
    "pre_path = \"taylor_impact/hierarchical_model\" #where to store the results\n"
   ]
  },
  {
   "cell_type": "markdown",
   "id": "b28354f6-5636-4c21-ad42-52f1ea71d969",
   "metadata": {},
   "source": [
    "## First we estimate alpha_map"
   ]
  },
  {
   "cell_type": "code",
   "execution_count": 17,
   "id": "d3cc1a8f-f3e5-4466-83c6-fbce3d34876e",
   "metadata": {},
   "outputs": [
    {
     "name": "stdout",
     "output_type": "stream",
     "text": [
      "IDX LOO  0\n",
      "IDX LOO  1\n",
      "IDX LOO  2\n",
      "IDX LOO  3\n",
      "IDX LOO  4\n",
      "IDX LOO  5\n",
      "IDX LOO  6\n",
      "IDX LOO  7\n",
      "IDX LOO  8\n",
      "IDX LOO  9\n",
      "IDX LOO  0\n",
      "IDX LOO  1\n",
      "IDX LOO  2\n",
      "IDX LOO  3\n",
      "IDX LOO  4\n",
      "IDX LOO  5\n",
      "IDX LOO  6\n",
      "IDX LOO  7\n",
      "IDX LOO  8\n",
      "IDX LOO  9\n",
      "IDX LOO  0\n",
      "IDX LOO  1\n",
      "IDX LOO  2\n",
      "IDX LOO  3\n",
      "IDX LOO  4\n",
      "IDX LOO  5\n",
      "IDX LOO  6\n",
      "IDX LOO  7\n",
      "IDX LOO  8\n",
      "IDX LOO  9\n"
     ]
    },
    {
     "data": {
      "text/plain": [
       "[None, None, None]"
      ]
     },
     "execution_count": 17,
     "metadata": {},
     "output_type": "execute_result"
    }
   ],
   "source": [
    "M = 10 #Initial number of i.i.d realizations\n",
    "iter_lim = 10#Maximum number of iterations\n",
    "threshold = 0.02\n",
    "\n",
    "alpha_min = -10 #lower bound for alpha\n",
    "alpha_max = 10 #upper bound for alpha\n",
    "delta_alpha = 4 #maximum half width of the interval investigated. The interval will be [max(alpha_min, alpha_star - delta_alpha), min(alpha_max, alpha_star + delta_alpha)] \n",
    "\n",
    "[func_alphamap(index_calib = index_calib, M = M, iter_lim = iter_lim, threshold = threshold, alpha_min = alpha_min, alpha_max = alpha_max, delta_alpha = delta_alpha, scale = scale, results_measures = results_measures, sigma = sigma, myCODE = myCODE, mm_list = mm_list, index_lambda_p = index_lambda_p, index_lambda_q = index_lambda_q, bMINlambda= bMINlambda, bMAXlambda = bMAXlambda, pre_path = pre_path, loo = loo, std_code = std_code) for index_calib in calib_only]"
   ]
  },
  {
   "cell_type": "markdown",
   "id": "feb36bab-27eb-4f32-a513-43326049704c",
   "metadata": {},
   "source": [
    "## Then we generate posterior samples $(A_i)_{i=1}^N \\propto p(yobs \\mid \\alpha)p_A(\\alpha)$ "
   ]
  },
  {
   "cell_type": "code",
   "execution_count": 19,
   "id": "4bc45be2-b156-4727-8e48-b4353686c82e",
   "metadata": {},
   "outputs": [
    {
     "name": "stdout",
     "output_type": "stream",
     "text": [
      "0\n",
      " [-----------------100%-----------------] 35 of 35 complete in 0.1 sec1\n",
      " [-----------------100%-----------------] 35 of 35 complete in 0.1 sec2\n",
      " [-----------------100%-----------------] 35 of 35 complete in 0.1 sec3\n",
      " [-----------------100%-----------------] 35 of 35 complete in 0.1 sec4\n",
      " [-----------------100%-----------------] 35 of 35 complete in 0.1 sec5\n",
      " [-----------------100%-----------------] 35 of 35 complete in 0.1 sec6\n",
      " [-----------------100%-----------------] 35 of 35 complete in 0.1 sec7\n",
      " [-----------------100%-----------------] 35 of 35 complete in 0.1 sec8\n",
      " [-----------------100%-----------------] 35 of 35 complete in 0.1 sec9\n",
      " [-----------------100%-----------------] 35 of 35 complete in 0.1 sec0\n",
      " [-----------------100%-----------------] 35 of 35 complete in 0.1 sec1\n",
      " [-----------------100%-----------------] 35 of 35 complete in 0.1 sec2\n",
      " [-----------------100%-----------------] 35 of 35 complete in 0.1 sec3\n",
      " [-----------------100%-----------------] 35 of 35 complete in 0.1 sec4\n",
      " [-----------------100%-----------------] 35 of 35 complete in 0.1 sec5\n",
      " [-----------------100%-----------------] 35 of 35 complete in 0.1 sec6\n",
      " [-----------------100%-----------------] 35 of 35 complete in 0.1 sec7\n",
      " [-----------------100%-----------------] 35 of 35 complete in 0.1 sec8\n",
      " [-----------------100%-----------------] 35 of 35 complete in 0.1 sec9\n",
      " [-----------------100%-----------------] 35 of 35 complete in 0.1 sec0\n",
      " [-----------------100%-----------------] 35 of 35 complete in 0.1 sec1\n",
      " [-----------------100%-----------------] 35 of 35 complete in 0.1 sec2\n",
      " [-----------------100%-----------------] 35 of 35 complete in 0.1 sec3\n",
      " [-----------------100%-----------------] 35 of 35 complete in 0.1 sec4\n",
      " [-----------------100%-----------------] 35 of 35 complete in 0.1 sec5\n",
      " [-----------------100%-----------------] 35 of 35 complete in 0.1 sec6\n",
      " [-----------------100%-----------------] 35 of 35 complete in 0.1 sec7\n",
      " [-----------------100%-----------------] 35 of 35 complete in 0.1 sec8\n",
      " [-----------------100%-----------------] 35 of 35 complete in 0.1 sec9\n",
      " [-----------------100%-----------------] 35 of 35 complete in 0.1 sec"
     ]
    }
   ],
   "source": [
    "tune_size = 10\n",
    "size = 25\n",
    "rngseed = 10\n",
    "num_chain = 3\n",
    "M = 10\n",
    "\n",
    "alpha_min = -10 #lower bound for alpha\n",
    "alpha_max = 10 #upper bound for alpha\n",
    "delta_alpha = 4 #maximum half width of the interval investigated. The interval will be [max(alpha_min, alpha_star - delta_alpha), min(alpha_max, alpha_star + delta_alpha)] \n",
    "\n",
    "samples_alpha = [MCMC_alpha_multichains(index_calib=index_calib, scale=scale, num_chain = num_chain, tune_size=tune_size, size=size, M = M,  alpha_min = alpha_min, alpha_max = alpha_max, delta_alpha = delta_alpha, rngseed=rngseed, results_measures=results_measures, sigma=sigma, myCODE = myCODE, mm_list = mm_list, index_lambda_p=index_lambda_p, index_lambda_q=index_lambda_q, bMINlambda=bMINlambda, bMAXlambda=bMAXlambda, pre_path = pre_path, loo = loo, std_code = False) for index_calib in calib_only]"
   ]
  },
  {
   "cell_type": "markdown",
   "id": "b166772b-78fa-4fd1-85f3-751195440b31",
   "metadata": {},
   "source": [
    "## Then we generate posterior samples $(\\Lambda_k)_{k=1}^M \\propto p(yobs \\mid \\lambda)p_\\Lambda(\\lambda\\mid \\alpha_{MAP})$ "
   ]
  },
  {
   "cell_type": "code",
   "execution_count": 21,
   "id": "51c12b90-0342-4e50-8a9a-a6ff0669781f",
   "metadata": {},
   "outputs": [
    {
     "name": "stdout",
     "output_type": "stream",
     "text": [
      " [-----------------100%-----------------] 45 of 45 complete in 0.1 sec"
     ]
    },
    {
     "name": "stderr",
     "output_type": "stream",
     "text": [
      "C:\\Users\\csire\\AppData\\Local\\anaconda3\\Lib\\site-packages\\numpy\\core\\fromnumeric.py:59: FutureWarning: 'DataFrame.swapaxes' is deprecated and will be removed in a future version. Please use 'DataFrame.transpose' instead.\n",
      "  return bound(*args, **kwds)\n",
      "C:\\Users\\csire\\AppData\\Local\\anaconda3\\Lib\\site-packages\\numpy\\core\\fromnumeric.py:59: FutureWarning: 'DataFrame.swapaxes' is deprecated and will be removed in a future version. Please use 'DataFrame.transpose' instead.\n",
      "  return bound(*args, **kwds)\n",
      "C:\\Users\\csire\\AppData\\Local\\anaconda3\\Lib\\site-packages\\numpy\\core\\fromnumeric.py:59: FutureWarning: 'DataFrame.swapaxes' is deprecated and will be removed in a future version. Please use 'DataFrame.transpose' instead.\n",
      "  return bound(*args, **kwds)\n",
      "C:\\Users\\csire\\AppData\\Local\\anaconda3\\Lib\\site-packages\\numpy\\core\\fromnumeric.py:59: FutureWarning: 'DataFrame.swapaxes' is deprecated and will be removed in a future version. Please use 'DataFrame.transpose' instead.\n",
      "  return bound(*args, **kwds)\n",
      "C:\\Users\\csire\\AppData\\Local\\anaconda3\\Lib\\site-packages\\numpy\\core\\fromnumeric.py:59: FutureWarning: 'DataFrame.swapaxes' is deprecated and will be removed in a future version. Please use 'DataFrame.transpose' instead.\n",
      "  return bound(*args, **kwds)\n",
      "C:\\Users\\csire\\AppData\\Local\\anaconda3\\Lib\\site-packages\\numpy\\core\\fromnumeric.py:59: FutureWarning: 'DataFrame.swapaxes' is deprecated and will be removed in a future version. Please use 'DataFrame.transpose' instead.\n",
      "  return bound(*args, **kwds)\n"
     ]
    },
    {
     "data": {
      "text/plain": [
       "[None, None, None]"
      ]
     },
     "execution_count": 21,
     "metadata": {},
     "output_type": "execute_result"
    }
   ],
   "source": [
    "tune_size = 35\n",
    "size = 10\n",
    "num_chain = 3\n",
    "rngseed=1234\n",
    "#MCMC_multichains generates the posterior samples \n",
    "[MCMC_lambda_multichains(index_calib = index_calib, model_error = model_error, scale = scale, num_chain = num_chain, tune_size = tune_size, size = size, myCODE = myCODE, mm_list = mm_list, results_measures = results_measures, sigma = sigma, index_lambda_p = index_lambda_p, index_lambda_q = index_lambda_q, bMINlambda = bMINlambda, bMAXlambda = bMAXlambda, rngseed = rngseed, pre_path = pre_path, nb_outputs = nb_outputs, loo = loo, std_code = False) for index_calib in calib_only]\n",
    "\n",
    "#bayes_lambda_results computes the performance metrics associated with this sample (with plug-in alpha)\n",
    "[bayes_lambda_results(index_calib = index_calib, pre_path = pre_path, true_values = true_values) for index_calib in calib_only]"
   ]
  },
  {
   "cell_type": "markdown",
   "id": "d52623c1-18e4-40fa-af68-46094c3cc956",
   "metadata": {},
   "source": [
    "Finally, we compute the estimator o\n",
    "$$E_{N,M}(h(\\Lambda)) = \\frac{1}{N}\\sum_{i=1}^N \\frac{\\sum_{k=1}^M h(\\Lambda_k) \\frac{p_{\\boldsymbol{\\Lambda}}(\\boldsymbol{\\Lambda}_k \\mid \\boldsymbol{\\boldsymbol{A_i}})}{p_{\\boldsymbol{\\Lambda}}(\\boldsymbol{\\Lambda}_k \\mid \\boldsymbol{\\boldsymbol{\\alpha}^\\star})}}{\\sum_{k=1}^M  \\frac{p_{\\boldsymbol{\\Lambda}}(\\boldsymbol{\\Lambda}_k \\mid \\boldsymbol{\\boldsymbol{A_i}})}{p_{\\boldsymbol{\\Lambda}}(\\boldsymbol{\\Lambda}_k \\mid \\boldsymbol{\\boldsymbol{\\alpha}^\\star})}}$$ "
   ]
  },
  {
   "cell_type": "code",
   "execution_count": 23,
   "id": "654ba721-cb20-4a29-82ea-e5d4d8f8f9e8",
   "metadata": {},
   "outputs": [
    {
     "name": "stderr",
     "output_type": "stream",
     "text": [
      "C:\\Users\\csire\\AppData\\Local\\anaconda3\\Lib\\site-packages\\numpy\\core\\fromnumeric.py:59: FutureWarning: 'DataFrame.swapaxes' is deprecated and will be removed in a future version. Please use 'DataFrame.transpose' instead.\n",
      "  return bound(*args, **kwds)\n",
      "C:\\Users\\csire\\AppData\\Local\\anaconda3\\Lib\\site-packages\\numpy\\core\\fromnumeric.py:59: FutureWarning: 'DataFrame.swapaxes' is deprecated and will be removed in a future version. Please use 'DataFrame.transpose' instead.\n",
      "  return bound(*args, **kwds)\n",
      "C:\\Users\\csire\\AppData\\Local\\anaconda3\\Lib\\site-packages\\numpy\\core\\fromnumeric.py:59: FutureWarning: 'DataFrame.swapaxes' is deprecated and will be removed in a future version. Please use 'DataFrame.transpose' instead.\n",
      "  return bound(*args, **kwds)\n",
      "C:\\Users\\csire\\AppData\\Local\\anaconda3\\Lib\\site-packages\\numpy\\core\\fromnumeric.py:59: FutureWarning: 'DataFrame.swapaxes' is deprecated and will be removed in a future version. Please use 'DataFrame.transpose' instead.\n",
      "  return bound(*args, **kwds)\n",
      "C:\\Users\\csire\\AppData\\Local\\anaconda3\\Lib\\site-packages\\numpy\\core\\fromnumeric.py:59: FutureWarning: 'DataFrame.swapaxes' is deprecated and will be removed in a future version. Please use 'DataFrame.transpose' instead.\n",
      "  return bound(*args, **kwds)\n",
      "C:\\Users\\csire\\AppData\\Local\\anaconda3\\Lib\\site-packages\\numpy\\core\\fromnumeric.py:59: FutureWarning: 'DataFrame.swapaxes' is deprecated and will be removed in a future version. Please use 'DataFrame.transpose' instead.\n",
      "  return bound(*args, **kwds)\n"
     ]
    },
    {
     "data": {
      "text/plain": [
       "[None, None, None]"
      ]
     },
     "execution_count": 23,
     "metadata": {},
     "output_type": "execute_result"
    }
   ],
   "source": [
    "[full_bayes_results(index_calib = index_calib, index_lambda_p = index_lambda_p, index_lambda_q = index_lambda_q, scale = scale, bMINlambda = bMINlambda, bMAXlambda = bMAXlambda,pre_path = pre_path, true_values = true_values,loo = loo, std_code = std_code) for index_calib in calib_only]"
   ]
  },
  {
   "cell_type": "markdown",
   "id": "f3981890-cce8-4165-a57c-7187d43c2f33",
   "metadata": {},
   "source": [
    "# Uniform prior"
   ]
  },
  {
   "cell_type": "code",
   "execution_count": 25,
   "id": "448286da-467f-4219-a103-9f6fc5e1d453",
   "metadata": {
    "tags": []
   },
   "outputs": [],
   "source": [
    "index_lambda_p = [2,3,4,5,0,1] #here, all variables are considered with uniform prior\n",
    "index_lambda_q = [] #no hierarchical model\n",
    "model_error = True \n",
    "scale = None \n",
    "pre_path = \"taylor_impact/uniform_error\" #where to store the results"
   ]
  },
  {
   "cell_type": "markdown",
   "id": "947459c2-dfe4-464c-b4b2-f47b393b6f29",
   "metadata": {},
   "source": [
    "## We generate posterior samples $(\\Lambda_k)_{k=1}^M \\propto p(yobs \\mid \\lambda)p_\\Lambda(\\lambda)$ "
   ]
  },
  {
   "cell_type": "code",
   "execution_count": 27,
   "id": "8db6db0b-7ed0-49fb-8d2a-3693f51ea00f",
   "metadata": {},
   "outputs": [
    {
     "name": "stdout",
     "output_type": "stream",
     "text": [
      " [-----------------100%-----------------] 45 of 45 complete in 0.1 sec"
     ]
    },
    {
     "name": "stderr",
     "output_type": "stream",
     "text": [
      "C:\\Users\\csire\\AppData\\Local\\anaconda3\\Lib\\site-packages\\numpy\\core\\fromnumeric.py:59: FutureWarning: 'DataFrame.swapaxes' is deprecated and will be removed in a future version. Please use 'DataFrame.transpose' instead.\n",
      "  return bound(*args, **kwds)\n",
      "C:\\Users\\csire\\AppData\\Local\\anaconda3\\Lib\\site-packages\\numpy\\core\\fromnumeric.py:59: FutureWarning: 'DataFrame.swapaxes' is deprecated and will be removed in a future version. Please use 'DataFrame.transpose' instead.\n",
      "  return bound(*args, **kwds)\n",
      "C:\\Users\\csire\\AppData\\Local\\anaconda3\\Lib\\site-packages\\numpy\\core\\fromnumeric.py:59: FutureWarning: 'DataFrame.swapaxes' is deprecated and will be removed in a future version. Please use 'DataFrame.transpose' instead.\n",
      "  return bound(*args, **kwds)\n",
      "C:\\Users\\csire\\AppData\\Local\\anaconda3\\Lib\\site-packages\\numpy\\core\\fromnumeric.py:59: FutureWarning: 'DataFrame.swapaxes' is deprecated and will be removed in a future version. Please use 'DataFrame.transpose' instead.\n",
      "  return bound(*args, **kwds)\n",
      "C:\\Users\\csire\\AppData\\Local\\anaconda3\\Lib\\site-packages\\numpy\\core\\fromnumeric.py:59: FutureWarning: 'DataFrame.swapaxes' is deprecated and will be removed in a future version. Please use 'DataFrame.transpose' instead.\n",
      "  return bound(*args, **kwds)\n",
      "C:\\Users\\csire\\AppData\\Local\\anaconda3\\Lib\\site-packages\\numpy\\core\\fromnumeric.py:59: FutureWarning: 'DataFrame.swapaxes' is deprecated and will be removed in a future version. Please use 'DataFrame.transpose' instead.\n",
      "  return bound(*args, **kwds)\n"
     ]
    },
    {
     "data": {
      "text/plain": [
       "[None, None, None]"
      ]
     },
     "execution_count": 27,
     "metadata": {},
     "output_type": "execute_result"
    }
   ],
   "source": [
    "#MCMC_multichains generates the posterior samples \n",
    "[MCMC_lambda_multichains(index_calib = index_calib, model_error = model_error, scale = scale, num_chain = num_chain, tune_size = tune_size, size = size, myCODE = myCODE, mm_list = mm_list, results_measures = results_measures, sigma = sigma, index_lambda_p = index_lambda_p, index_lambda_q = index_lambda_q, bMINlambda = bMINlambda, bMAXlambda = bMAXlambda, rngseed = rngseed, pre_path = pre_path, nb_outputs = nb_outputs, loo = loo, std_code = std_code) for index_calib in calib_only]\n",
    "\n",
    "#bayes_lambda_results computes the performance metrics associated with this sample (with plug-in alpha)\n",
    "[bayes_lambda_results(index_calib = index_calib, pre_path = pre_path, true_values = true_values) for index_calib in calib_only]"
   ]
  },
  {
   "cell_type": "markdown",
   "id": "6f6cf898-069d-451f-9c71-2189286c3699",
   "metadata": {},
   "source": [
    "# No model error"
   ]
  },
  {
   "cell_type": "code",
   "execution_count": 29,
   "id": "69736bd2-6751-404e-9c04-50d70ca20cef",
   "metadata": {
    "tags": []
   },
   "outputs": [],
   "source": [
    "index_lambda_p = [2,3,4,5] #indexes of the four physical parameters\n",
    "index_lambda_q = [0,1] #indexes of the two numerical parameters\n",
    "model_error = False #No model error is considered, so the two numerical parameters are fixed\n",
    "scale = None \n",
    "pre_path = \"taylor_impact/no_error\""
   ]
  },
  {
   "cell_type": "markdown",
   "id": "8d15ff5d-10e5-45d8-98d7-f153be994b61",
   "metadata": {},
   "source": [
    "## We generate posterior samples $(\\Lambda_k)_{k=1}^M \\propto p(yobs \\mid \\lambda)p_\\Lambda(\\lambda)$ "
   ]
  },
  {
   "cell_type": "code",
   "execution_count": 31,
   "id": "981a243f-51d9-4783-9c12-af0ac553dab3",
   "metadata": {},
   "outputs": [
    {
     "name": "stdout",
     "output_type": "stream",
     "text": [
      " [-----------------100%-----------------] 45 of 45 complete in 0.2 sec"
     ]
    },
    {
     "name": "stderr",
     "output_type": "stream",
     "text": [
      "C:\\Users\\csire\\AppData\\Local\\anaconda3\\Lib\\site-packages\\numpy\\core\\fromnumeric.py:59: FutureWarning: 'DataFrame.swapaxes' is deprecated and will be removed in a future version. Please use 'DataFrame.transpose' instead.\n",
      "  return bound(*args, **kwds)\n",
      "C:\\Users\\csire\\AppData\\Local\\anaconda3\\Lib\\site-packages\\numpy\\core\\fromnumeric.py:59: FutureWarning: 'DataFrame.swapaxes' is deprecated and will be removed in a future version. Please use 'DataFrame.transpose' instead.\n",
      "  return bound(*args, **kwds)\n",
      "C:\\Users\\csire\\AppData\\Local\\anaconda3\\Lib\\site-packages\\numpy\\core\\fromnumeric.py:59: FutureWarning: 'DataFrame.swapaxes' is deprecated and will be removed in a future version. Please use 'DataFrame.transpose' instead.\n",
      "  return bound(*args, **kwds)\n",
      "C:\\Users\\csire\\AppData\\Local\\anaconda3\\Lib\\site-packages\\numpy\\core\\fromnumeric.py:59: FutureWarning: 'DataFrame.swapaxes' is deprecated and will be removed in a future version. Please use 'DataFrame.transpose' instead.\n",
      "  return bound(*args, **kwds)\n",
      "C:\\Users\\csire\\AppData\\Local\\anaconda3\\Lib\\site-packages\\numpy\\core\\fromnumeric.py:59: FutureWarning: 'DataFrame.swapaxes' is deprecated and will be removed in a future version. Please use 'DataFrame.transpose' instead.\n",
      "  return bound(*args, **kwds)\n",
      "C:\\Users\\csire\\AppData\\Local\\anaconda3\\Lib\\site-packages\\numpy\\core\\fromnumeric.py:59: FutureWarning: 'DataFrame.swapaxes' is deprecated and will be removed in a future version. Please use 'DataFrame.transpose' instead.\n",
      "  return bound(*args, **kwds)\n"
     ]
    },
    {
     "data": {
      "text/plain": [
       "[None, None, None]"
      ]
     },
     "execution_count": 31,
     "metadata": {},
     "output_type": "execute_result"
    }
   ],
   "source": [
    "#MCMC_multichains generates the posterior samples \n",
    "[MCMC_lambda_multichains(index_calib = index_calib, model_error = model_error, scale = scale, num_chain = num_chain, tune_size = tune_size, size = size, myCODE = myCODE, mm_list = mm_list, results_measures = results_measures, sigma = sigma, index_lambda_p = index_lambda_p, index_lambda_q = index_lambda_q, bMINlambda = bMINlambda, bMAXlambda = bMAXlambda, rngseed = rngseed, pre_path = pre_path, nb_outputs = nb_outputs, loo = loo, std_code = std_code) for index_calib in calib_only]\n",
    "\n",
    "#bayes_lambda_results computes the performance metrics associated with this sample (with plug-in alpha)\n",
    "[bayes_lambda_results(index_calib = index_calib, pre_path = pre_path, true_values = true_values) for index_calib in calib_only]"
   ]
  },
  {
   "cell_type": "markdown",
   "id": "f98539a1-b571-4a7a-b9a0-a80c02d36b3a",
   "metadata": {},
   "source": [
    "# Embedded discrepancy"
   ]
  },
  {
   "cell_type": "markdown",
   "id": "89854e97-52d9-4415-b48a-37744f820d0c",
   "metadata": {},
   "source": [
    "## We generate posterior samples $(\\tilde{\\Lambda}_k)_{k=1}^M \\propto p(yobs \\mid \\tilde{\\lambda})p_\\Lambda(\\tilde{\\lambda})$, with $\\tilde{\\lambda} = (\\lambda^1, \\lambda^2)$"
   ]
  },
  {
   "cell_type": "code",
   "execution_count": 34,
   "id": "95093227-9f2c-4b8a-ad31-4cf502adfdd1",
   "metadata": {},
   "outputs": [
    {
     "data": {
      "text/plain": [
       "[None, None, None]"
      ]
     },
     "execution_count": 34,
     "metadata": {},
     "output_type": "execute_result"
    }
   ],
   "source": [
    "from scipy.stats import qmc\n",
    "\n",
    "pre_path = f\"seed_x{seed_x}\" + suff + \"/embedded_discrepancy\"\n",
    "\n",
    "index_lambda_p = [0,1,2,3,4,5]\n",
    "index_lambda_q = []\n",
    "\n",
    "R = 50 #number of samples for ksi\n",
    "\n",
    "np.random.seed(10)\n",
    "lhs = qmc.LatinHypercube(d = len(index_lambda_p), scramble=False, optimization=\"random-cd\", seed = 123) #sample for ksi is obtained with LHS as ksi is uniform\n",
    "u = lhs.random(n=R)*2 - 1\n",
    "\n",
    "tune_size = 30\n",
    "size = 20\n",
    "rngseed = 432\n",
    "num_chain = 1\n",
    "\n",
    "[MCMC_multichains(index_calib = index_calib, num_chain = num_chain, tune_size = tune_size, size = size, u = u, mm_list = mm_list, results_measures = results_measures,sigma = sigma, index_lambda_p = index_lambda_p, bMINlambda = bMINlambda, bMAXlambda = bMAXlambda, rngseed = rngseed, pre_path = pre_path, loo = loo) for index_calib in calib_only]\n",
    "\n",
    "[results_embed(index_calib = index_calib, num_chain = num_chain, tune_size = tune_size, size = size, u = u, mm_list = mm_list, results_measures = results_measures,sigma = sigma, index_lambda_p = index_lambda_p, bMINlambda = bMINlambda, bMAXlambda = bMAXlambda, pre_path = pre_path, true_values = true_values, rngseed = rngseed, loo = loo) for index_calib in calib_only]"
   ]
  }
 ],
 "metadata": {
  "kernelspec": {
   "display_name": "Python 3 (ipykernel)",
   "language": "python",
   "name": "python3"
  },
  "language_info": {
   "codemirror_mode": {
    "name": "ipython",
    "version": 3
   },
   "file_extension": ".py",
   "mimetype": "text/x-python",
   "name": "python",
   "nbconvert_exporter": "python",
   "pygments_lexer": "ipython3",
   "version": "3.12.4"
  }
 },
 "nbformat": 4,
 "nbformat_minor": 5
}
