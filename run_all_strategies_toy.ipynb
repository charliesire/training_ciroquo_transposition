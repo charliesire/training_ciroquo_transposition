{
 "cells": [
  {
   "cell_type": "markdown",
   "id": "bbebb253-ba76-4ec3-9a1e-3bdf41ad41de",
   "metadata": {
    "tags": []
   },
   "source": [
    "# This notebook runs all the different strategies \n",
    "\n",
    "The functions studied here are defined in the file toy_pb.py:\n",
    "\n",
    "$$f_1(x, \\lambda) = (0.2+\\lambda_1)*ln(1+x) + \\sqrt{\\lambda_2}$$\n",
    "$$f_2(x, \\lambda) = sin(\\frac{1}{2}\\times(1+\\lambda_1))exp(-\\frac{1}{1+x}) + \\lambda_2^{0.15}$$\n",
    "\n",
    "$\\lambda_1$ is the parameter to calibrate and $\\lambda_2$ is the numerical variable representing the model error.\n",
    "\n",
    "And we define the true values $y_t(x) = f_t(x+0.4, (0.5,0.5))$, then introducing a model error"
   ]
  },
  {
   "cell_type": "code",
   "execution_count": 13,
   "id": "8a95efd1-70f3-4ab7-965f-6ddaddf2e149",
   "metadata": {
    "tags": []
   },
   "outputs": [],
   "source": [
    "import numpy                as np\n",
    "import pandas as pd\n",
    "import pickle\n",
    "\n",
    "from investigate_alphamap import func_alphamap,check_repeat\n",
    "from bayes_alpha import *\n",
    "from bayes_lambda import *\n",
    "from full_bayes import *\n",
    "from toy_pb import *"
   ]
  },
  {
   "cell_type": "code",
   "execution_count": 14,
   "id": "54d70400-2e23-4ce1-be49-6c25899378c0",
   "metadata": {},
   "outputs": [],
   "source": [
    "if(os.path.isdir(\"toy_pb\")==False): \n",
    "    os.mkdir(\"toy_pb\")"
   ]
  },
  {
   "cell_type": "code",
   "execution_count": 15,
   "id": "34dd76d3-169d-4124-847e-a4ea788dfb1c",
   "metadata": {
    "tags": []
   },
   "outputs": [],
   "source": [
    "sigma = [0.1,0.05] #Standard deviation of the observation noise for each output variable\n",
    "bMINlambda = np.array([0,0]) #lower bounds for lambda \n",
    "bMAXlambda = np.array([1,1]) #upper bounds for lambda\n",
    "nb_exp = 5 #Number of observations\n",
    "# The true values are y(x) = f(x+0.4, [0.5,0.5])\n",
    "true_values = pd.DataFrame(np.concatenate([[func(xx+0.4, np.array([0.5,0.5]), kk,False) for xx in np.linspace(0,1,7)[1:-1]] for kk in range(1,3)], axis=1))\n",
    "true_values.columns = [\"Y1\", \"Y2\"]\n",
    "np.random.seed(45)\n",
    "results_measures = true_values + np.random.normal(size = (nb_exp,2))*sigma\n",
    "\n",
    "mm_list = None\n",
    "\n",
    "calib_only = [1,2] #index of the calibration problems to consider. [1,2] means that the two configurations will be tested: observations of the first variable, and then of the second one. \n",
    "\n",
    "nb_outputs = 2\n",
    "loo = False #boolean indicating if we work with leave-one-out\n",
    "std_code = False"
   ]
  },
  {
   "cell_type": "markdown",
   "id": "f21dfdb4-b51c-4467-babd-f6050c4f1763",
   "metadata": {},
   "source": [
    "# Hierarchical model"
   ]
  },
  {
   "cell_type": "code",
   "execution_count": 17,
   "id": "b757b866",
   "metadata": {
    "tags": []
   },
   "outputs": [],
   "source": [
    "index_lambda_p = [0] #indexes of the four physical parameters\n",
    "index_lambda_q = [1] #indexes of the two numerical parameters\n",
    "model_error = True #Model error is  considered, so hierarchical bayesian model for the two numerical parameters\n",
    "scale = 0.25 #std deviation of the truncated gaussian prior\n",
    "pre_path = f\"toy_pb/hierarchical_model\" #where to store the results\n"
   ]
  },
  {
   "cell_type": "markdown",
   "id": "b28354f6-5636-4c21-ad42-52f1ea71d969",
   "metadata": {},
   "source": [
    "## First we estimate alpha_map"
   ]
  },
  {
   "cell_type": "code",
   "execution_count": 19,
   "id": "d3cc1a8f-f3e5-4466-83c6-fbce3d34876e",
   "metadata": {},
   "outputs": [
    {
     "name": "stdout",
     "output_type": "stream",
     "text": [
      "IDX LOO  None\n",
      "IDX LOO  None\n"
     ]
    },
    {
     "data": {
      "text/plain": [
       "[None, None]"
      ]
     },
     "execution_count": 19,
     "metadata": {},
     "output_type": "execute_result"
    }
   ],
   "source": [
    "M = 1000 #Initial number of i.i.d realizations\n",
    "iter_lim = 100#Maximum number of iterations\n",
    "threshold = 0.005\n",
    "\n",
    "alpha_min = -4 #lower bound for alpha\n",
    "alpha_max = 4 #upper bound for alpha\n",
    "delta_alpha = 1 #maximum half width of the interval investigated. The interval will be [max(alpha_min, alpha_star - delta_alpha), min(alpha_max, alpha_star + delta_alpha)] \n",
    "\n",
    "[func_alphamap(index_calib = index_calib, M = M, iter_lim = iter_lim, threshold = threshold, alpha_min = alpha_min, alpha_max = alpha_max, delta_alpha = delta_alpha, scale = scale, results_measures = results_measures, sigma = sigma, myCODE = myCODE, mm_list = mm_list, index_lambda_p = index_lambda_p, index_lambda_q = index_lambda_q, bMINlambda= bMINlambda, bMAXlambda = bMAXlambda, pre_path = pre_path, loo = loo, std_code = std_code) for index_calib in calib_only]"
   ]
  },
  {
   "cell_type": "markdown",
   "id": "feb36bab-27eb-4f32-a513-43326049704c",
   "metadata": {},
   "source": [
    "## Then we generate posterior samples $(A_i)_{i=1}^N \\propto p(yobs \\mid \\alpha)p_A(\\alpha)$ "
   ]
  },
  {
   "cell_type": "code",
   "execution_count": 21,
   "id": "4bc45be2-b156-4727-8e48-b4353686c82e",
   "metadata": {},
   "outputs": [
    {
     "name": "stdout",
     "output_type": "stream",
     "text": [
      "None\n",
      " [-----------------100%-----------------] 300 of 300 complete in 4.1 secNone\n",
      " [-----------------100%-----------------] 300 of 300 complete in 4.5 sec"
     ]
    }
   ],
   "source": [
    "tune_size = 100\n",
    "size = 200\n",
    "rngseed = 10\n",
    "num_chain = 3\n",
    "M = 1000\n",
    "\n",
    "samples_alpha = [MCMC_alpha_multichains(index_calib=index_calib, scale=scale, num_chain = num_chain, tune_size=tune_size, size=size, M = M,  alpha_min = alpha_min, alpha_max = alpha_max, delta_alpha = delta_alpha, rngseed=rngseed, results_measures=results_measures, sigma=sigma, myCODE = myCODE, mm_list = mm_list, index_lambda_p=index_lambda_p, index_lambda_q=index_lambda_q, bMINlambda=bMINlambda, bMAXlambda=bMAXlambda, pre_path = pre_path, loo = loo, std_code = std_code) for index_calib in calib_only]"
   ]
  },
  {
   "cell_type": "markdown",
   "id": "b166772b-78fa-4fd1-85f3-751195440b31",
   "metadata": {},
   "source": [
    "## Then we generate posterior samples $(\\Lambda_k)_{k=1}^M \\propto p(yobs \\mid \\lambda)p_\\Lambda(\\lambda\\mid \\alpha_{MAP})$ "
   ]
  },
  {
   "cell_type": "code",
   "execution_count": 23,
   "id": "51c12b90-0342-4e50-8a9a-a6ff0669781f",
   "metadata": {},
   "outputs": [
    {
     "name": "stdout",
     "output_type": "stream",
     "text": [
      " [-----------------100%-----------------] 700 of 700 complete in 1.0 sec"
     ]
    },
    {
     "name": "stderr",
     "output_type": "stream",
     "text": [
      "C:\\Users\\csire\\AppData\\Local\\anaconda3\\Lib\\site-packages\\numpy\\core\\fromnumeric.py:59: FutureWarning: 'DataFrame.swapaxes' is deprecated and will be removed in a future version. Please use 'DataFrame.transpose' instead.\n",
      "  return bound(*args, **kwds)\n",
      "C:\\Users\\csire\\AppData\\Local\\anaconda3\\Lib\\site-packages\\numpy\\core\\fromnumeric.py:59: FutureWarning: 'DataFrame.swapaxes' is deprecated and will be removed in a future version. Please use 'DataFrame.transpose' instead.\n",
      "  return bound(*args, **kwds)\n"
     ]
    },
    {
     "data": {
      "text/plain": [
       "[None, None]"
      ]
     },
     "execution_count": 23,
     "metadata": {},
     "output_type": "execute_result"
    }
   ],
   "source": [
    "tune_size = 200\n",
    "size = 500\n",
    "num_chain = 3\n",
    "rngseed=1234\n",
    "#MCMC_multichains generates the posterior samples \n",
    "[MCMC_lambda_multichains(index_calib = index_calib, model_error = model_error, scale = scale, num_chain = num_chain, tune_size = tune_size, size = size, myCODE = myCODE, mm_list = mm_list, results_measures = results_measures, sigma = sigma, index_lambda_p = index_lambda_p, index_lambda_q = index_lambda_q, bMINlambda = bMINlambda, bMAXlambda = bMAXlambda, rngseed = rngseed, pre_path = pre_path, nb_outputs = nb_outputs, loo = loo, std_code = std_code) for index_calib in calib_only]\n",
    "\n",
    "#bayes_lambda_results computes the performance metrics associated with this sample (with plug-in alpha)\n",
    "[bayes_lambda_results(index_calib = index_calib, pre_path = pre_path, true_values = true_values, std_code = std_code) for index_calib in calib_only]"
   ]
  },
  {
   "cell_type": "markdown",
   "id": "d52623c1-18e4-40fa-af68-46094c3cc956",
   "metadata": {},
   "source": [
    "Finally, we compute the estimator o\n",
    "$$E_{N,M}(h(\\Lambda)) = \\frac{1}{N}\\sum_{i=1}^N \\frac{\\sum_{k=1}^M h(\\Lambda_k) \\frac{p_{\\boldsymbol{\\Lambda}}(\\boldsymbol{\\Lambda}_k \\mid \\boldsymbol{\\boldsymbol{A_i}})}{p_{\\boldsymbol{\\Lambda}}(\\boldsymbol{\\Lambda}_k \\mid \\boldsymbol{\\boldsymbol{\\alpha}^\\star})}}{\\sum_{k=1}^M  \\frac{p_{\\boldsymbol{\\Lambda}}(\\boldsymbol{\\Lambda}_k \\mid \\boldsymbol{\\boldsymbol{A_i}})}{p_{\\boldsymbol{\\Lambda}}(\\boldsymbol{\\Lambda}_k \\mid \\boldsymbol{\\boldsymbol{\\alpha}^\\star})}}$$ "
   ]
  },
  {
   "cell_type": "code",
   "execution_count": 25,
   "id": "654ba721-cb20-4a29-82ea-e5d4d8f8f9e8",
   "metadata": {},
   "outputs": [
    {
     "name": "stderr",
     "output_type": "stream",
     "text": [
      "C:\\Users\\csire\\AppData\\Local\\anaconda3\\Lib\\site-packages\\numpy\\core\\fromnumeric.py:59: FutureWarning: 'DataFrame.swapaxes' is deprecated and will be removed in a future version. Please use 'DataFrame.transpose' instead.\n",
      "  return bound(*args, **kwds)\n",
      "C:\\Users\\csire\\AppData\\Local\\anaconda3\\Lib\\site-packages\\numpy\\core\\fromnumeric.py:59: FutureWarning: 'DataFrame.swapaxes' is deprecated and will be removed in a future version. Please use 'DataFrame.transpose' instead.\n",
      "  return bound(*args, **kwds)\n"
     ]
    },
    {
     "data": {
      "text/plain": [
       "[None, None]"
      ]
     },
     "execution_count": 25,
     "metadata": {},
     "output_type": "execute_result"
    }
   ],
   "source": [
    "[full_bayes_results(index_calib = index_calib, index_lambda_p = index_lambda_p, index_lambda_q = index_lambda_q, scale = scale, bMINlambda = bMINlambda, bMAXlambda = bMAXlambda,pre_path = pre_path, true_values = true_values,loo = loo, std_code = std_code) for index_calib in calib_only]"
   ]
  },
  {
   "cell_type": "markdown",
   "id": "f3981890-cce8-4165-a57c-7187d43c2f33",
   "metadata": {},
   "source": [
    "# Uniform prior"
   ]
  },
  {
   "cell_type": "code",
   "execution_count": 27,
   "id": "448286da-467f-4219-a103-9f6fc5e1d453",
   "metadata": {
    "tags": []
   },
   "outputs": [],
   "source": [
    "index_lambda_p = [0,1] #here, all variables are considered with uniform prior\n",
    "index_lambda_q = [] #no hierarchical model\n",
    "model_error = True \n",
    "scale = None \n",
    "pre_path = f\"toy_pb/uniform_error\" #where to store the results"
   ]
  },
  {
   "cell_type": "markdown",
   "id": "947459c2-dfe4-464c-b4b2-f47b393b6f29",
   "metadata": {},
   "source": [
    "## We generate posterior samples $(\\Lambda_k)_{k=1}^M \\propto p(yobs \\mid \\lambda)p_\\Lambda(\\lambda)$ "
   ]
  },
  {
   "cell_type": "code",
   "execution_count": 29,
   "id": "8db6db0b-7ed0-49fb-8d2a-3693f51ea00f",
   "metadata": {},
   "outputs": [
    {
     "name": "stdout",
     "output_type": "stream",
     "text": [
      " [-----------------100%-----------------] 700 of 700 complete in 0.8 sec"
     ]
    },
    {
     "name": "stderr",
     "output_type": "stream",
     "text": [
      "C:\\Users\\csire\\AppData\\Local\\anaconda3\\Lib\\site-packages\\numpy\\core\\fromnumeric.py:59: FutureWarning: 'DataFrame.swapaxes' is deprecated and will be removed in a future version. Please use 'DataFrame.transpose' instead.\n",
      "  return bound(*args, **kwds)\n",
      "C:\\Users\\csire\\AppData\\Local\\anaconda3\\Lib\\site-packages\\numpy\\core\\fromnumeric.py:59: FutureWarning: 'DataFrame.swapaxes' is deprecated and will be removed in a future version. Please use 'DataFrame.transpose' instead.\n",
      "  return bound(*args, **kwds)\n"
     ]
    },
    {
     "data": {
      "text/plain": [
       "[None, None]"
      ]
     },
     "execution_count": 29,
     "metadata": {},
     "output_type": "execute_result"
    }
   ],
   "source": [
    "tune_size = 200\n",
    "size = 500\n",
    "num_chain = 3\n",
    "rngseed=1234\n",
    "#MCMC_multichains generates the posterior samples \n",
    "[MCMC_lambda_multichains(index_calib = index_calib, model_error = model_error, scale = scale, num_chain = num_chain, tune_size = tune_size, size = size, myCODE = myCODE, mm_list = mm_list, results_measures = results_measures, sigma = sigma, index_lambda_p = index_lambda_p, index_lambda_q = index_lambda_q, bMINlambda = bMINlambda, bMAXlambda = bMAXlambda, rngseed = rngseed, pre_path = pre_path, nb_outputs = nb_outputs, loo = loo, std_code = std_code) for index_calib in calib_only]\n",
    "\n",
    "#bayes_lambda_results computes the performance metrics associated with this sample (with plug-in alpha)\n",
    "[bayes_lambda_results(index_calib = index_calib, pre_path = pre_path, true_values = true_values, std_code = std_code) for index_calib in calib_only]"
   ]
  },
  {
   "cell_type": "markdown",
   "id": "6f6cf898-069d-451f-9c71-2189286c3699",
   "metadata": {},
   "source": [
    "# No model error"
   ]
  },
  {
   "cell_type": "code",
   "execution_count": 31,
   "id": "69736bd2-6751-404e-9c04-50d70ca20cef",
   "metadata": {
    "tags": []
   },
   "outputs": [],
   "source": [
    "index_lambda_p = [0] #indexes of the four physical parameters\n",
    "index_lambda_q = [1] #indexes of the two numerical parameters\n",
    "model_error = False #No model error is considered, so the two numerical parameters are fixed\n",
    "scale = None \n",
    "pre_path = f\"toy_pb/no_error\""
   ]
  },
  {
   "cell_type": "markdown",
   "id": "8d15ff5d-10e5-45d8-98d7-f153be994b61",
   "metadata": {},
   "source": [
    "## We generate posterior samples $(\\Lambda_k)_{k=1}^M \\propto p(yobs \\mid \\lambda)p_\\Lambda(\\lambda)$ "
   ]
  },
  {
   "cell_type": "code",
   "execution_count": 33,
   "id": "981a243f-51d9-4783-9c12-af0ac553dab3",
   "metadata": {},
   "outputs": [
    {
     "name": "stdout",
     "output_type": "stream",
     "text": [
      " [-----------------100%-----------------] 700 of 700 complete in 0.6 sec"
     ]
    },
    {
     "name": "stderr",
     "output_type": "stream",
     "text": [
      "C:\\Users\\csire\\AppData\\Local\\anaconda3\\Lib\\site-packages\\numpy\\core\\fromnumeric.py:59: FutureWarning: 'DataFrame.swapaxes' is deprecated and will be removed in a future version. Please use 'DataFrame.transpose' instead.\n",
      "  return bound(*args, **kwds)\n",
      "C:\\Users\\csire\\AppData\\Local\\anaconda3\\Lib\\site-packages\\numpy\\core\\fromnumeric.py:59: FutureWarning: 'DataFrame.swapaxes' is deprecated and will be removed in a future version. Please use 'DataFrame.transpose' instead.\n",
      "  return bound(*args, **kwds)\n"
     ]
    },
    {
     "data": {
      "text/plain": [
       "[None, None]"
      ]
     },
     "execution_count": 33,
     "metadata": {},
     "output_type": "execute_result"
    }
   ],
   "source": [
    "tune_size = 200\n",
    "size = 500\n",
    "num_chain = 3\n",
    "rngseed=1234\n",
    "\n",
    "#MCMC_multichains generates the posterior samples \n",
    "[MCMC_lambda_multichains(index_calib = index_calib, model_error = model_error, scale = scale, num_chain = num_chain, tune_size = tune_size, size = size, myCODE = myCODE, mm_list = mm_list, results_measures = results_measures, sigma = sigma, index_lambda_p = index_lambda_p, index_lambda_q = index_lambda_q, bMINlambda = bMINlambda, bMAXlambda = bMAXlambda, rngseed = rngseed, pre_path = pre_path, nb_outputs = nb_outputs, loo = loo, std_code = std_code) for index_calib in calib_only]\n",
    "\n",
    "#bayes_lambda_results computes the performance metrics associated with this sample (with plug-in alpha)\n",
    "[bayes_lambda_results(index_calib = index_calib, pre_path = pre_path, true_values = true_values, std_code = std_code) for index_calib in calib_only]"
   ]
  }
 ],
 "metadata": {
  "kernelspec": {
   "display_name": "Python 3 (ipykernel)",
   "language": "python",
   "name": "python3"
  },
  "language_info": {
   "codemirror_mode": {
    "name": "ipython",
    "version": 3
   },
   "file_extension": ".py",
   "mimetype": "text/x-python",
   "name": "python",
   "nbconvert_exporter": "python",
   "pygments_lexer": "ipython3",
   "version": "3.12.4"
  }
 },
 "nbformat": 4,
 "nbformat_minor": 5
}
